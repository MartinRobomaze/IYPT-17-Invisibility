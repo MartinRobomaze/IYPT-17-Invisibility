{
 "cells": [
  {
   "cell_type": "code",
   "execution_count": 2,
   "metadata": {
    "pycharm": {
     "name": "#%%\n"
    }
   },
   "outputs": [],
   "source": [
    "import numpy as np\n",
    "import matplotlib.pyplot as plt"
   ]
  },
  {
   "cell_type": "code",
   "execution_count": 3,
   "outputs": [],
   "source": [
    "def derivative(f, x, h=0.001):\n",
    "    return (f(x + h) - f(x - h)) / (2*h)"
   ],
   "metadata": {
    "collapsed": false,
    "pycharm": {
     "name": "#%%\n"
    }
   }
  },
  {
   "cell_type": "code",
   "execution_count": 23,
   "outputs": [],
   "source": [
    "class Object:\n",
    "    def y_coords(self, x):\n",
    "        pass\n",
    "\n",
    "    def normal_line_slope(self, y):\n",
    "        pass\n",
    "\n",
    "    def collides_with(self, ray_x):\n",
    "        pass"
   ],
   "metadata": {
    "collapsed": false,
    "pycharm": {
     "name": "#%%\n"
    }
   }
  },
  {
   "cell_type": "code",
   "execution_count": 44,
   "outputs": [],
   "source": [
    "class Circle(Object):\n",
    "    def __init__(self, x0, y0, radius):\n",
    "        self.x0 = x0\n",
    "        self.y0 = y0\n",
    "        self.r = radius\n",
    "\n",
    "    def y_coords(self, x):\n",
    "        return np.sqrt(self.r**2 - (x - self.x0)**2) + self.y0\n",
    "\n",
    "    def normal_line_slope(self, x):\n",
    "        return -1 / derivative(self.y_coords, x)\n",
    "\n",
    "    def collides_with(self, ray_x):\n",
    "        if self.x0 - r <= ray_x <= self.x0 + r:\n",
    "            return self.y_coords(ray_x)\n",
    "\n",
    "        return None"
   ],
   "metadata": {
    "collapsed": false,
    "pycharm": {
     "name": "#%%\n"
    }
   }
  },
  {
   "cell_type": "code",
   "execution_count": 32,
   "outputs": [],
   "source": [
    "class Line(Object):\n",
    "    def __init__(self, x0, x1, y0, y1):\n",
    "        self.x0 = x0\n",
    "        self.x1 = x1\n",
    "        self.y0 = y0\n",
    "        self.y1 = y1\n",
    "\n",
    "    def y_coords(self, x):\n",
    "        try:\n",
    "            return len(x) * [self.y0]\n",
    "        except TypeError:\n",
    "            return self.y0\n",
    "\n",
    "    def normal_line_slope(self, x):\n",
    "        return np.inf if self.y0 - self.y1 == 0 else -1 / derivative(self.y_coords(x), x)\n",
    "\n",
    "    def collides_with(self, ray_x):\n",
    "        if self.x0 <= ray_x <= self.x1:\n",
    "            return self.y_coords(ray_x)\n",
    "\n",
    "        return None"
   ],
   "metadata": {
    "collapsed": false,
    "pycharm": {
     "name": "#%%\n"
    }
   }
  },
  {
   "cell_type": "code",
   "execution_count": 7,
   "outputs": [],
   "source": [
    "def point_slope(x_point, y_point, x, slope):\n",
    "    return slope * (x - x_point) + y_point"
   ],
   "metadata": {
    "collapsed": false,
    "pycharm": {
     "name": "#%%\n"
    }
   }
  },
  {
   "cell_type": "code",
   "execution_count": 8,
   "outputs": [],
   "source": [
    "def critical_angle(refr_idx_1, refr_idx_2):\n",
    "    return np.arcsin(refr_idx_2 / refr_idx_1)"
   ],
   "metadata": {
    "collapsed": false,
    "pycharm": {
     "name": "#%%\n"
    }
   }
  },
  {
   "cell_type": "code",
   "execution_count": 9,
   "outputs": [],
   "source": [
    "def snell_refraction(refr_idx_1, refr_idx_2, angle_1):\n",
    "    return np.arcsin(np.sin(angle_1) * refr_idx_1 / refr_idx_2)"
   ],
   "metadata": {
    "collapsed": false,
    "pycharm": {
     "name": "#%%\n"
    }
   }
  },
  {
   "cell_type": "code",
   "execution_count": 19,
   "outputs": [],
   "source": [
    "def trace_ray(ray_position, ray_end, objects, refr_idx_air, refr_idx_glass):\n",
    "    slope = 0\n",
    "    x_slope_change = ray_position[0]\n",
    "    y_slope_change = ray_position[1]\n",
    "\n",
    "    ray_points = [[ray_position[0], ray_position[1]]]\n",
    "\n",
    "    n_passed_objects = 0\n",
    "\n",
    "    for i in np.arange(ray_position[0], ray_end, 0.01):\n",
    "        current_ray_position = [i, point_slope(x_slope_change, y_slope_change, i, slope)]\n",
    "        for obj in objects:\n",
    "            if obj.collides_with(i, current_ray_position[1], 0.01):\n",
    "                norm_slope = obj.normal_line_slope(current_ray_position[1])\n",
    "\n",
    "                norm_angle = np.arctan(norm_slope)\n",
    "\n",
    "                refr_idx_1 = refr_idx_air if n_passed_objects % 2 == 0 else refr_idx_glass\n",
    "                refr_idx_2 = refr_idx_glass if n_passed_objects % 2 == 0 else refr_idx_air\n",
    "\n",
    "                # print(norm_angle)\n",
    "\n",
    "                if norm_angle > critical_angle(refr_idx_1, refr_idx_2):\n",
    "                    ray_angle_norm = -norm_angle\n",
    "                else:\n",
    "                    ray_angle_norm = snell_refraction(refr_idx_1, refr_idx_2, norm_angle)\n",
    "                print(current_ray_position[1], i, ray_angle_norm, norm_angle, slope, n_passed_objects)\n",
    "                ray_angle = ray_angle_norm + norm_angle\n",
    "                ray_slope = np.tan(ray_angle)\n",
    "                slope = ray_slope\n",
    "                x_slope_change = current_ray_position[0]\n",
    "                y_slope_change = current_ray_position[1]\n",
    "                n_passed_objects += 1\n",
    "\n",
    "        ray_points.append([current_ray_position[0], current_ray_position[1]])\n",
    "\n",
    "    return np.array(ray_points)"
   ],
   "metadata": {
    "collapsed": false,
    "pycharm": {
     "name": "#%%\n"
    }
   }
  },
  {
   "cell_type": "code",
   "execution_count": 20,
   "outputs": [
    {
     "data": {
      "text/plain": "0.7180199093984887"
     },
     "execution_count": 20,
     "metadata": {},
     "output_type": "execute_result"
    }
   ],
   "source": [
    "critical_angle(1.52, 1)"
   ],
   "metadata": {
    "collapsed": false,
    "pycharm": {
     "name": "#%%\n"
    }
   }
  },
  {
   "cell_type": "code",
   "execution_count": 58,
   "outputs": [],
   "source": [
    "r = 6\n",
    "\n",
    "circ_1 = Circle(0, 0, r)\n",
    "line_1 = Line(-r, r, 0, 0)\n",
    "\n",
    "objects = (line_1, circ_1)"
   ],
   "metadata": {
    "collapsed": false,
    "pycharm": {
     "name": "#%%\n"
    }
   }
  },
  {
   "cell_type": "code",
   "execution_count": 152,
   "outputs": [
    {
     "name": "stdout",
     "output_type": "stream",
     "text": [
      "ray -4.0\n",
      "ray -3.5\n",
      "ray -3.0\n",
      "ray -2.5\n"
     ]
    },
    {
     "name": "stderr",
     "output_type": "stream",
     "text": [
      "/tmp/ipykernel_48979/430948632.py:8: RuntimeWarning: invalid value encountered in sqrt\n",
      "  return np.sqrt(self.r**2 - (y - self.y0)**2) + self.x0\n"
     ]
    },
    {
     "name": "stdout",
     "output_type": "stream",
     "text": [
      "ray -2.0\n",
      "ray -1.5\n",
      "ray -1.0\n",
      "-1.0 -6.394884621840902e-14 nan nan 0 0\n",
      "ray -0.5\n",
      "ray 0.0\n"
     ]
    },
    {
     "name": "stderr",
     "output_type": "stream",
     "text": [
      "/tmp/ipykernel_48979/448008599.py:2: RuntimeWarning: invalid value encountered in arcsin\n",
      "  return np.arcsin(refr_idx_2 / refr_idx_1)\n",
      "/tmp/ipykernel_48979/430948632.py:11: RuntimeWarning: divide by zero encountered in double_scalars\n",
      "  return -1 / derivative(self.x_coords, y)\n"
     ]
    },
    {
     "name": "stdout",
     "output_type": "stream",
     "text": [
      "0.0 0.9999999999999147 0.0 0.0 0 0\n",
      "ray 0.5\n",
      "ray 1.0\n",
      "1.0 -6.394884621840902e-14 nan nan 0 0\n",
      "1.0 -6.394884621840902e-14 nan nan nan 1\n",
      "ray 1.5\n",
      "ray 2.0\n",
      "2.0 0.9999999999999147 0.0 0.0 0 0\n",
      "ray 2.5\n",
      "ray 3.0\n",
      "3.0 -6.394884621840902e-14 nan nan 0 0\n",
      "3.0 -6.394884621840902e-14 nan nan nan 1\n",
      "ray 3.5\n",
      "ray 4.0\n",
      "4.0 0.9999999999999147 0.0 0.0 0 0\n"
     ]
    }
   ],
   "source": [
    "rays = []\n",
    "\n",
    "for i in np.arange(-4, 4.25, 0.5):\n",
    "    print('ray', i)\n",
    "    rays.append(np.swapaxes(trace_ray([-3, i], 2*r, objects, 1, 1.52), 0, 1))"
   ],
   "metadata": {
    "collapsed": false,
    "pycharm": {
     "name": "#%%\n"
    }
   }
  },
  {
   "cell_type": "code",
   "execution_count": 16,
   "outputs": [
    {
     "name": "stdout",
     "output_type": "stream",
     "text": [
      "-2.5 -6.394884621840902e-14 0.0 0.0 0 0\n",
      "-2.5 0.009999999999935838 0.0 0.0 0.0 1\n",
      "-2.5 5.44999999999982 0.27767745595381066 0.42977543900771575 0.0 2\n",
      "-2.4914489054887468 5.45999999999982 0.6830569286327557 0.4282082461006762 0.8551094511253594 3\n",
      "-2.4712413728713845 5.4699999999998195 0.2744000211080013 0.4245091722838794 2.020753261736262 4\n",
      "-2.462837118748144 5.479999999999819 0.6737471875189434 0.42297256083933754 0.840425412324067 5\n",
      "-2.0 -6.394884621840902e-14 0.0 0.0 0 0\n",
      "-2.0 0.009999999999935838 0.0 0.0 0.0 1\n",
      "-2.0 5.649999999999816 0.22109515302244134 0.3398369149783067 0.0 2\n",
      "-1.9937175127339595 5.659999999999815 0.5294689903941272 0.33872653534442376 0.6282487266040652 3\n",
      "-1.9819075690697365 5.669999999999815 0.21906230162574772 0.33664039557281455 1.1809943664223281 4\n",
      "-1.5 -6.394884621840902e-14 0.0 0.0 0 0\n",
      "-1.5 0.009999999999935838 0.0 0.0 0.0 1\n",
      "-1.5 5.799999999999812 0.16522440761909096 0.2526802589676038 0.0 2\n",
      "-1.495559383074898 5.809999999999812 0.38858041917991426 0.2519159593864617 0.4440616925102074 3\n",
      "-1.4881062265616374 5.819999999999812 0.1639024053913391 0.250633492267083 0.7453156513260905 4\n",
      "-1.0 -6.394884621840902e-14 0.0 0.0 0 0\n",
      "-1.0 0.009999999999935838 0.0 0.0 0.0 1\n",
      "-1.0 5.90999999999981 0.10987003899152012 0.16744808163466152 0.0 2\n",
      "-0.9971534708093828 5.91999999999981 0.255379084041068 0.1669669499216675 0.28465291906172857 3\n",
      "-0.5 -6.394884621840902e-14 0.0 0.0 0 0\n",
      "-0.5 0.009999999999935838 0.0 0.0 0.0 1\n",
      "-0.5 5.969999999999809 0.05485206404776689 0.08343008778061312 0.0 2\n",
      "-0.4986082964559207 5.979999999999809 0.12665243395101264 0.08319732984659245 0.1391703544079309 3\n",
      "0.0 -6.394884621840902e-14 0.0 0.0 0 0\n",
      "0.0 0.009999999999935838 0.0 0.0 0.0 1\n",
      "0.0 5.999999999999808 0.0 0.0 0.0 2\n",
      "0.0 6.009999999999808 0.0 0.0 0.0 3\n",
      "0.5 -6.394884621840902e-14 0.0 0.0 0 0\n",
      "0.5 0.009999999999935838 0.0 0.0 0.0 1\n",
      "0.5 5.969999999999809 -0.05485206404776689 -0.08343008778061312 0.0 2\n",
      "0.4986082964559207 5.979999999999809 -0.12665243395101264 -0.08319732984659245 -0.1391703544079309 3\n",
      "1.0 -6.394884621840902e-14 0.0 0.0 0 0\n",
      "1.0 0.009999999999935838 0.0 0.0 0.0 1\n",
      "1.0 5.90999999999981 -0.10987003899152012 -0.16744808163466152 0.0 2\n",
      "0.9971534708093828 5.91999999999981 -0.255379084041068 -0.1669669499216675 -0.28465291906172857 3\n",
      "1.5 -6.394884621840902e-14 0.0 0.0 0 0\n",
      "1.5 0.009999999999935838 0.0 0.0 0.0 1\n",
      "1.5 5.799999999999812 -0.16522440761909096 -0.2526802589676038 0.0 2\n",
      "1.495559383074898 5.809999999999812 -0.38858041917991426 -0.2519159593864617 -0.4440616925102074 3\n",
      "1.4881062265616374 5.819999999999812 -0.1639024053913391 -0.250633492267083 -0.7453156513260905 4\n",
      "2.0 -6.394884621840902e-14 0.0 0.0 0 0\n",
      "2.0 0.009999999999935838 0.0 0.0 0.0 1\n",
      "2.0 5.649999999999816 -0.22109515302244134 -0.3398369149783067 0.0 2\n",
      "1.9937175127339595 5.659999999999815 -0.5294689903941272 -0.33872653534442376 -0.6282487266040652 3\n",
      "1.9819075690697365 5.669999999999815 -0.21906230162574772 -0.33664039557281455 -1.1809943664223281 4\n",
      "2.5 -6.394884621840902e-14 0.0 0.0 0 0\n",
      "2.5 0.009999999999935838 0.0 0.0 0.0 1\n",
      "2.5 5.44999999999982 -0.27767745595381066 -0.42977543900771575 0.0 2\n",
      "2.4914489054887468 5.45999999999982 -0.6830569286327557 -0.4282082461006762 -0.8551094511253594 3\n",
      "2.4712413728713845 5.4699999999998195 -0.2744000211080013 -0.4245091722838794 -2.020753261736262 4\n",
      "2.462837118748144 5.479999999999819 -0.6737471875189434 -0.42297256083933754 -0.840425412324067 5\n"
     ]
    },
    {
     "name": "stderr",
     "output_type": "stream",
     "text": [
      "/tmp/ipykernel_5494/448008599.py:2: RuntimeWarning: invalid value encountered in arcsin\n",
      "  return np.arcsin(refr_idx_2 / refr_idx_1)\n",
      "/tmp/ipykernel_5494/430948632.py:8: RuntimeWarning: invalid value encountered in sqrt\n",
      "  return np.sqrt(self.r**2 - (y - self.y0)**2) + self.x0\n",
      "/tmp/ipykernel_5494/430948632.py:11: RuntimeWarning: divide by zero encountered in double_scalars\n",
      "  return -1 / derivative(self.x_coords, y)\n"
     ]
    }
   ],
   "source": [
    "rays = []\n",
    "\n",
    "for i in np.arange(-2.5, 2.55, 0.5):\n",
    "    rays.append(np.swapaxes(trace_ray([-3, i], 2*r, objects, 1, 1.52), 0, 1))"
   ],
   "metadata": {
    "collapsed": false,
    "pycharm": {
     "name": "#%%\n"
    }
   }
  },
  {
   "cell_type": "code",
   "execution_count": 59,
   "outputs": [
    {
     "data": {
      "text/plain": "<Figure size 720x720 with 1 Axes>",
      "image/png": "[encoded data removed]"
     },
     "metadata": {
      "needs_background": "light"
     },
     "output_type": "display_data"
    }
   ],
   "source": [
    "fig, ax = plt.subplots()\n",
    "\n",
    "x_vals = np.arange(-r, r+0.01, 0.01)\n",
    "ax.plot(x_vals, circ_1.y_coords(x_vals))\n",
    "ax.plot(x_vals, line_1.y_coords(x_vals))\n",
    "\n",
    "# for ray in rays:\n",
    "#     ax.plot(ray[0], ray[1], color='red')\n",
    "\n",
    "plt.xlim(-r*2, r*2)\n",
    "plt.ylim(-10, 10)\n",
    "ax.set_aspect(1)\n",
    "fig.set_size_inches(10, 10)\n",
    "plt.show()"
   ],
   "metadata": {
    "collapsed": false,
    "pycharm": {
     "name": "#%%\n"
    }
   }
  }
 ],
 "metadata": {
  "kernelspec": {
   "display_name": "Python 3 (ipykernel)",
   "language": "python",
   "name": "python3"
  },
  "language_info": {
   "codemirror_mode": {
    "name": "ipython",
    "version": 3
   },
   "file_extension": ".py",
   "mimetype": "text/x-python",
   "name": "python",
   "nbconvert_exporter": "python",
   "pygments_lexer": "ipython3",
   "version": "3.10.4"
  }
 },
 "nbformat": 4,
 "nbformat_minor": 1
}