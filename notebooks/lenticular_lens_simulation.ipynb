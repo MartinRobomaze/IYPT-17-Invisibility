{
 "cells": [
  {
   "cell_type": "code",
   "execution_count": 2,
   "metadata": {
    "pycharm": {
     "name": "#%%\n"
    }
   },
   "outputs": [],
   "source": [
    "import math\n",
    "\n",
    "import numpy as np\n",
    "import matplotlib.pyplot as plt\n",
    "import sympy"
   ]
  },
  {
   "cell_type": "code",
   "execution_count": 3,
   "outputs": [],
   "source": [
    "def derivative(f, x, h=0.001):\n",
    "    return (f(x + h) - f(x - h)) / (2*h)"
   ],
   "metadata": {
    "collapsed": false,
    "pycharm": {
     "name": "#%%\n"
    }
   }
  },
  {
   "cell_type": "code",
   "execution_count": 433,
   "outputs": [],
   "source": [
    "class Object:\n",
    "    def y_coords(self, x):\n",
    "        pass\n",
    "\n",
    "    def normal_line_slope(self, y):\n",
    "        pass\n",
    "\n",
    "    def collides_with(self, ray_x, ray_y, ray_slope):\n",
    "        pass"
   ],
   "metadata": {
    "collapsed": false,
    "pycharm": {
     "name": "#%%\n"
    }
   }
  },
  {
   "cell_type": "code",
   "execution_count": 434,
   "outputs": [],
   "source": [
    "class Circle(Object):\n",
    "    def __init__(self, x0, y0, radius):\n",
    "        self.x0 = x0\n",
    "        self.y0 = y0\n",
    "        self.r = radius\n",
    "\n",
    "    def y_coords(self, x):\n",
    "        return np.sqrt(self.r**2 - (x - self.x0)**2) + self.y0\n",
    "\n",
    "    def normal_line_slope(self, x):\n",
    "        return -1 / derivative(self.y_coords, x)\n",
    "\n",
    "    def collides_with(self, ray_x, ray_y, ray_slope):\n",
    "        if (ray_slope is np.inf or ray_slope > 10**9) and self.x0 - r <= ray_x <= self.x0 + r:\n",
    "            return ray_x\n",
    "\n",
    "        x = sympy.symbols('x')\n",
    "\n",
    "        eq = (ray_slope * (x - ray_x) + ray_y) - (sympy.sqrt(self.r**2 - (x - self.x0)**2) + self.y0)\n",
    "        solutions = sympy.solve(eq)\n",
    "\n",
    "        if len(solutions) > 0:\n",
    "            for solution in solutions:\n",
    "                f = solution.evalf()\n",
    "                print(f)\n",
    "                if round(f, 8) != round(ray_x, 8):\n",
    "                    return float(f)\n",
    "        return None"
   ],
   "metadata": {
    "collapsed": false,
    "pycharm": {
     "name": "#%%\n"
    }
   }
  },
  {
   "cell_type": "code",
   "execution_count": 435,
   "outputs": [],
   "source": [
    "class Line(Object):\n",
    "    def __init__(self, x0, x1, y0, y1):\n",
    "        self.x0 = x0\n",
    "        self.x1 = x1\n",
    "        self.y0 = y0\n",
    "        self.y1 = y1\n",
    "\n",
    "        self.slope = (self.y1 - self.y0) / (self.x1 - self.x0)\n",
    "        self.offset = self.y0 - self.slope * self.x0\n",
    "\n",
    "    def y_coords(self, x):\n",
    "        return self.slope * x + self.offset\n",
    "\n",
    "    def normal_line_slope(self, x):\n",
    "        return np.inf if self.y0 - self.y1 == 0 else -1 / derivative(self.y_coords, x)\n",
    "\n",
    "    def collides_with(self, ray_x, ray_y, ray_slope):\n",
    "        if ray_slope is np.inf:\n",
    "            if self.x0 <= ray_x <= self.x1:\n",
    "                return ray_x\n",
    "            return None\n",
    "\n",
    "        col_x = (ray_slope*ray_x - ray_y + self.offset) / (ray_slope - self.slope)\n",
    "\n",
    "        if self.x0 <= col_x <= self.x1:\n",
    "            return col_x\n",
    "\n",
    "        return None"
   ],
   "metadata": {
    "collapsed": false,
    "pycharm": {
     "name": "#%%\n"
    }
   }
  },
  {
   "cell_type": "code",
   "execution_count": 436,
   "outputs": [],
   "source": [
    "class Ray:\n",
    "    def __init__(self, x0, y0, initial_slope=np.inf, initial_dir='R'):\n",
    "        self.x = x0\n",
    "        self.y = y0\n",
    "        self.slope = initial_slope\n",
    "        self.dir = initial_dir\n",
    "        self.collisions = 0\n",
    "\n",
    "        self.points = [(self.x, self.y)]\n",
    "\n",
    "    def get_collisions(self):\n",
    "        return self.collisions\n",
    "\n",
    "    def update(self, x, y, slope, dir, new_collision=True):\n",
    "        self.points.append((x, y))\n",
    "        self.x = x\n",
    "        self.y = y\n",
    "        self.slope = slope\n",
    "        self.dir = dir\n",
    "\n",
    "        if new_collision:\n",
    "            self.collisions += 1"
   ],
   "metadata": {
    "collapsed": false,
    "pycharm": {
     "name": "#%%\n"
    }
   }
  },
  {
   "cell_type": "code",
   "execution_count": 189,
   "outputs": [],
   "source": [
    "def point_slope(x_point, y_point, y, slope):\n",
    "    return (slope * x_point + y - y_point) / slope"
   ],
   "metadata": {
    "collapsed": false,
    "pycharm": {
     "name": "#%%\n"
    }
   }
  },
  {
   "cell_type": "code",
   "execution_count": 9,
   "outputs": [],
   "source": [
    "def critical_angle(refr_idx_1, refr_idx_2):\n",
    "    return np.arcsin(refr_idx_2 / refr_idx_1)"
   ],
   "metadata": {
    "collapsed": false,
    "pycharm": {
     "name": "#%%\n"
    }
   }
  },
  {
   "cell_type": "code",
   "execution_count": 10,
   "outputs": [],
   "source": [
    "def snell_refraction(refr_idx_1, refr_idx_2, angle_1):\n",
    "    return np.arcsin(np.sin(angle_1) * refr_idx_1 / refr_idx_2)"
   ],
   "metadata": {
    "collapsed": false,
    "pycharm": {
     "name": "#%%\n"
    }
   }
  },
  {
   "cell_type": "code",
   "execution_count": 482,
   "outputs": [],
   "source": [
    "def trace_ray(ray: Ray, objects, refr_idx, end):\n",
    "    collisions = []\n",
    "\n",
    "    for obj in objects:\n",
    "        collision = obj.collides_with(ray.x, ray.y, ray.slope)\n",
    "\n",
    "        if collision is None:\n",
    "            continue\n",
    "\n",
    "        collision_y = obj.y_coords(collision)\n",
    "        if collision_y > ray.y:\n",
    "            collisions.append((collision, collision_y, obj))\n",
    "\n",
    "    if len(collisions) == 0:\n",
    "        ray.update(point_slope(ray.x, ray.y, end, ray.slope), end, ray.slope, 'R')\n",
    "        return ray\n",
    "\n",
    "    if ray.dir == 'R':\n",
    "        collisions.sort(key=lambda col: col[1])\n",
    "    else:\n",
    "        collisions.sort(key=lambda col: col[1], reverse=True)\n",
    "\n",
    "    norm_l_slope = collisions[0][2].normal_line_slope(collisions[0][0])\n",
    "    norm_l_angle = math.atan(norm_l_slope)\n",
    "    angle_1 = math.pi / 2 + norm_l_angle\n",
    "\n",
    "    angle_2 = 0\n",
    "\n",
    "    if ray.collisions % 2 == 0:\n",
    "        angle_2 = snell_refraction(1, refr_idx, angle_1)\n",
    "    if ray.collisions % 2 == 1:\n",
    "        angle_2 = snell_refraction(refr_idx, 1, angle_1)\n",
    "\n",
    "    if norm_l_angle >= 0:\n",
    "        ray_slope = np.tan(norm_l_angle + angle_2)\n",
    "    else:\n",
    "        ray_slope = np.tan(norm_l_angle - angle_2)\n",
    "\n",
    "    ray.update(collisions[0][0], collisions[0][1], ray_slope, 'R', new_collision=True)\n",
    "\n",
    "    print(ray.slope)\n",
    "\n",
    "    return trace_ray(ray, objects, refr_idx, end)"
   ],
   "metadata": {
    "collapsed": false,
    "pycharm": {
     "name": "#%%\n"
    }
   }
  },
  {
   "cell_type": "code",
   "execution_count": 438,
   "outputs": [
    {
     "data": {
      "text/plain": "0.7180199093984887"
     },
     "execution_count": 438,
     "metadata": {},
     "output_type": "execute_result"
    }
   ],
   "source": [
    "critical_angle(1.52, 1)"
   ],
   "metadata": {
    "collapsed": false,
    "pycharm": {
     "name": "#%%\n"
    }
   }
  },
  {
   "cell_type": "code",
   "execution_count": 461,
   "outputs": [],
   "source": [
    "r = 6\n",
    "\n",
    "circ_1 = Circle(0, 0, r)\n",
    "line_1 = Line(-r, r, 0, 0)\n",
    "\n",
    "objects = [line_1, circ_1]"
   ],
   "metadata": {
    "collapsed": false,
    "pycharm": {
     "name": "#%%\n"
    }
   }
  },
  {
   "cell_type": "code",
   "execution_count": 423,
   "outputs": [
    {
     "data": {
      "text/plain": "-2"
     },
     "execution_count": 423,
     "metadata": {},
     "output_type": "execute_result"
    }
   ],
   "source": [
    "line_1.collides_with(-2, -3, np.inf)"
   ],
   "metadata": {
    "collapsed": false,
    "pycharm": {
     "name": "#%%\n"
    }
   }
  },
  {
   "cell_type": "code",
   "execution_count": 484,
   "outputs": [
    {
     "data": {
      "text/plain": "[(-2.5, -6), (-2.5, 0.0), (-2.5, 5.454356057317857), (1.142244841838019, 20)]"
     },
     "execution_count": 484,
     "metadata": {},
     "output_type": "execute_result"
    }
   ],
   "source": [
    "rays[3].points"
   ],
   "metadata": {
    "collapsed": false,
    "pycharm": {
     "name": "#%%\n"
    }
   }
  },
  {
   "cell_type": "code",
   "execution_count": 483,
   "outputs": [
    {
     "name": "stdout",
     "output_type": "stream",
     "text": [
      "1.633123935319537e+16\n",
      "3.9935931202642165\n",
      "-2.50000000000000\n"
     ]
    }
   ],
   "source": [
    "ray = trace_ray(rays[3], objects, 1.5, 20)"
   ],
   "metadata": {
    "collapsed": false,
    "pycharm": {
     "name": "#%%\n"
    }
   }
  },
  {
   "cell_type": "code",
   "execution_count": 486,
   "outputs": [],
   "source": [
    "rays = [Ray(x, -r) for x in np.arange(-4, 4.1, 0.5)]"
   ],
   "metadata": {
    "collapsed": false,
    "pycharm": {
     "name": "#%%\n"
    }
   }
  },
  {
   "cell_type": "code",
   "execution_count": 487,
   "outputs": [
    {
     "name": "stdout",
     "output_type": "stream",
     "text": [
      "1.633123935319537e+16\n",
      "nan\n",
      "1.633123935319537e+16\n",
      "2.1098292320006062\n",
      "-3.49999999999999\n",
      "1.633123935319537e+16\n",
      "2.973091331289986\n"
     ]
    },
    {
     "name": "stderr",
     "output_type": "stream",
     "text": [
      "/tmp/ipykernel_18888/1994151469.py:2: RuntimeWarning: invalid value encountered in arcsin\n",
      "  return np.arcsin(np.sin(angle_1) * refr_idx_1 / refr_idx_2)\n"
     ]
    },
    {
     "name": "stdout",
     "output_type": "stream",
     "text": [
      "-3.00000000000000\n",
      "1.633123935319537e+16\n",
      "3.9935931202642165\n",
      "-2.50000000000000\n",
      "1.633123935319537e+16\n",
      "5.380433048695919\n",
      "-2.00000000000000\n",
      "1.633123935319537e+16\n",
      "7.5481056435405085\n",
      "-1.50000000000000\n",
      "1.633123935319537e+16\n",
      "11.704233673860655\n",
      "-0.999999999999999\n",
      "1.633123935319537e+16\n",
      "23.85366533638103\n",
      "-0.500000000000000\n",
      "1.633123935319537e+16\n",
      "-1.633123935319537e+16\n",
      "0\n",
      "1.633123935319537e+16\n",
      "-23.85366533638103\n"
     ]
    },
    {
     "name": "stderr",
     "output_type": "stream",
     "text": [
      "/tmp/ipykernel_18888/4267201904.py:11: RuntimeWarning: divide by zero encountered in double_scalars\n",
      "  return -1 / derivative(self.y_coords, x)\n"
     ]
    },
    {
     "name": "stdout",
     "output_type": "stream",
     "text": [
      "0.500000000000000\n",
      "1.633123935319537e+16\n",
      "-11.704233673860623\n",
      "0.999999999999999\n",
      "1.633123935319537e+16\n",
      "-7.5481056435405085\n",
      "1.50000000000000\n",
      "1.633123935319537e+16\n",
      "-5.3804330486959255\n",
      "1.99999999999999\n",
      "1.633123935319537e+16\n",
      "-3.993593120264209\n",
      "2.50000000000000\n",
      "1.633123935319537e+16\n",
      "-2.9730913312899774\n",
      "1.633123935319537e+16\n",
      "-2.1098292320006036\n",
      "3.50000000000001\n",
      "1.633123935319537e+16\n",
      "nan\n"
     ]
    }
   ],
   "source": [
    "for ray in rays:\n",
    "    ray = trace_ray(ray, objects, 1.5, 20)"
   ],
   "metadata": {
    "collapsed": false,
    "pycharm": {
     "name": "#%%\n"
    }
   }
  },
  {
   "cell_type": "code",
   "execution_count": 282,
   "outputs": [
    {
     "data": {
      "text/plain": "[(-4.0, -6),\n (-4.0, 4.47213595499958),\n (-2.766277573410678, 0.0),\n (-2.766277573410683, 5.324256604150959),\n (-2.766277573410688, 5.324256604150957),\n (-4.323181772076411, 0.0),\n (-4.323181772076411, 0.0),\n (-4.3231817720764125, 4.160540753986944),\n (-4.323181772076413, 4.160540753986943),\n (nan, 20),\n (nan, 20),\n (nan, 20),\n (nan, 20),\n (nan, 20),\n (nan, 20),\n (nan, 20),\n (nan, 20),\n (nan, 20),\n (nan, 20),\n (nan, 20),\n (nan, 20)]"
     },
     "execution_count": 282,
     "metadata": {},
     "output_type": "execute_result"
    }
   ],
   "source": [
    "rays[0].points"
   ],
   "metadata": {
    "collapsed": false,
    "pycharm": {
     "name": "#%%\n"
    }
   }
  },
  {
   "cell_type": "code",
   "execution_count": 488,
   "outputs": [
    {
     "data": {
      "text/plain": "<Figure size 720x720 with 1 Axes>",
      "image/png": "[encoded data removed]"
     },
     "metadata": {
      "needs_background": "light"
     },
     "output_type": "display_data"
    }
   ],
   "source": [
    "fig, ax = plt.subplots()\n",
    "\n",
    "x_vals = np.arange(-r, r+0.01, 0.01)\n",
    "ax.plot(x_vals, circ_1.y_coords(x_vals))\n",
    "ax.plot(x_vals, line_1.y_coords(x_vals))\n",
    "\n",
    "for ray in rays:\n",
    "    ray_points = np.array(ray.points).swapaxes(0, 1)\n",
    "    ax.plot(ray_points[0], ray_points[1], color='red')\n",
    "\n",
    "plt.xlim(-r*2, r*2)\n",
    "plt.ylim(-10, 20)\n",
    "ax.set_aspect(1)\n",
    "fig.set_size_inches(10, 10)\n",
    "plt.show()"
   ],
   "metadata": {
    "collapsed": false,
    "pycharm": {
     "name": "#%%\n"
    }
   }
  }
 ],
 "metadata": {
  "kernelspec": {
   "display_name": "Python 3 (ipykernel)",
   "language": "python",
   "name": "python3"
  },
  "language_info": {
   "codemirror_mode": {
    "name": "ipython",
    "version": 3
   },
   "file_extension": ".py",
   "mimetype": "text/x-python",
   "name": "python",
   "nbconvert_exporter": "python",
   "pygments_lexer": "ipython3",
   "version": "3.10.4"
  }
 },
 "nbformat": 4,
 "nbformat_minor": 1
}