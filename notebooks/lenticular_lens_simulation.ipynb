{
 "cells": [
  {
   "cell_type": "code",
   "execution_count": 1,
   "metadata": {
    "pycharm": {
     "name": "#%%\n"
    }
   },
   "outputs": [],
   "source": [
    "import math\n",
    "\n",
    "import numpy as np\n",
    "import matplotlib.pyplot as plt\n",
    "import sympy\n",
    "\n",
    "import pickle"
   ]
  },
  {
   "cell_type": "code",
   "execution_count": 2,
   "metadata": {
    "pycharm": {
     "name": "#%%\n"
    }
   },
   "outputs": [],
   "source": [
    "SMALL_SIZE = 16\n",
    "MEDIUM_SIZE = 16\n",
    "BIGGER_SIZE = 16\n",
    "\n",
    "plt.rc('font', size=BIGGER_SIZE)         # controls default text sizes\n",
    "plt.rc('axes', titlesize=SMALL_SIZE)     # fontsize of the axes title\n",
    "plt.rc('axes', labelsize=MEDIUM_SIZE)    # fontsize of the x and y labels\n",
    "plt.rc('xtick', labelsize=SMALL_SIZE)    # fontsize of the tick labels\n",
    "plt.rc('ytick', labelsize=SMALL_SIZE)    # fontsize of the tick labels\n",
    "plt.rc('legend', fontsize=SMALL_SIZE)    # legend fontsize\n",
    "plt.rc('figure', titlesize=BIGGER_SIZE)  # fontsize of the figure title\n",
    "\n",
    "plt.rcParams[\"figure.figsize\"] = (10, 8)"
   ]
  },
  {
   "cell_type": "code",
   "execution_count": 3,
   "metadata": {
    "pycharm": {
     "name": "#%%\n"
    }
   },
   "outputs": [],
   "source": [
    "def derivative(f, x, h=0.001):\n",
    "    return (f(x + h) - f(x - h)) / (2*h)"
   ]
  },
  {
   "cell_type": "code",
   "execution_count": 4,
   "metadata": {
    "pycharm": {
     "name": "#%%\n"
    }
   },
   "outputs": [],
   "source": [
    "class Object:\n",
    "    def y_coords(self, x):\n",
    "        pass\n",
    "\n",
    "    def normal_line_slope(self, y):\n",
    "        pass\n",
    "\n",
    "    def collides_with(self, ray_x, ray_y, ray_slope):\n",
    "        pass"
   ]
  },
  {
   "cell_type": "code",
   "execution_count": 18,
   "metadata": {
    "pycharm": {
     "name": "#%%\n"
    }
   },
   "outputs": [],
   "source": [
    "class Circle(Object):\n",
    "    def __init__(self, x0, y0, radius, end_length):\n",
    "        self.x0 = x0\n",
    "        self.y0 = y0\n",
    "        self.end_length = end_length\n",
    "        self.r = radius\n",
    "\n",
    "    def y_coords(self, x):\n",
    "        if self.x0 - self.end_length / 2 <= x <= self.x0 + self.end_length / 2:\n",
    "            return np.sqrt(self.r**2 - (x - self.x0)**2) + self.y0\n",
    "        else:\n",
    "            raise ValueError('X is outside object range, x: {}, x0-end_length: {}'.format(x, self.x0 - self.end_length / 2))\n",
    "\n",
    "    def normal_line_slope(self, x):\n",
    "        return -1 / derivative(self.y_coords, x)\n",
    "\n",
    "    def collides_with(self, ray_x, ray_y, ray_slope):\n",
    "        if (ray_slope is np.inf or ray_slope > 10**9) and self.x0 - self.r <= ray_x <= self.x0 + self.r:\n",
    "\n",
    "            y = self.y_coords(ray_x)\n",
    "            if y == np.nan:\n",
    "                return None\n",
    "\n",
    "            return [(ray_x, y)]\n",
    "\n",
    "        ray_x -= self.x0\n",
    "        ray_offset = ray_y - ray_slope * ray_x\n",
    "\n",
    "        if ray_offset == 0:\n",
    "            d = 0\n",
    "        elif ray_slope == 0:\n",
    "            d = ray_offset\n",
    "        elif math.copysign(1, ray_offset) == math.copysign(1, ray_slope):\n",
    "            d = -np.abs(((-ray_offset / ray_slope) * ray_offset) / np.sqrt((-ray_offset / ray_slope)**2 + ray_offset**2))\n",
    "        else:\n",
    "            d = -np.abs(((-ray_offset / ray_slope) * ray_offset) / np.sqrt((-ray_offset / ray_slope)**2 + ray_offset**2))\n",
    "\n",
    "        if np.abs(d) > self.r:\n",
    "            return None\n",
    "\n",
    "        normal_line_angle = np.arctan(-1 / ray_slope)\n",
    "\n",
    "        # Coordinates of point closest to circle origin.\n",
    "        x_d = np.cos(normal_line_angle) * d\n",
    "        y_d = np.sin(normal_line_angle) * d\n",
    "\n",
    "        # Distance between point closest to circle origin and the intersection points.\n",
    "        d_i = np.sqrt(self.r**2 - d**2)\n",
    "\n",
    "        slope_angle = np.arctan(ray_slope)\n",
    "\n",
    "        x_1 = np.cos(slope_angle) * d_i + x_d\n",
    "        x_2 = np.cos(slope_angle) * (-d_i) + x_d\n",
    "\n",
    "        y_1 = np.sin(slope_angle) * d_i + y_d\n",
    "        y_2 = np.sin(slope_angle) * (-d_i) + y_d\n",
    "\n",
    "        if x_1 == np.nan:\n",
    "            x_1 = None\n",
    "        if x_2 == np.nan:\n",
    "            x_2 = None\n",
    "\n",
    "        if y_1 == np.nan:\n",
    "            y_1 = None\n",
    "        if y_2 == np.nan:\n",
    "            y_2 = None\n",
    "\n",
    "        if np.isclose(x_1, x_2):\n",
    "            return [(x_1, y_1)]\n",
    "        else:\n",
    "            return [(x_1, y_1), (x_2, y_2)]"
   ]
  },
  {
   "cell_type": "code",
   "execution_count": 6,
   "metadata": {
    "pycharm": {
     "name": "#%%\n"
    }
   },
   "outputs": [],
   "source": [
    "class Line(Object):\n",
    "    def __init__(self, x0, x1, y0, y1):\n",
    "        self.x0 = x0\n",
    "        self.x1 = x1\n",
    "        self.y0 = y0\n",
    "        self.y1 = y1\n",
    "\n",
    "        self.slope = (self.y1 - self.y0) / (self.x1 - self.x0)\n",
    "        self.offset = self.y0 - self.slope * self.x0\n",
    "\n",
    "    def y_coords(self, x):\n",
    "        return self.slope * x + self.offset\n",
    "\n",
    "    def normal_line_slope(self, x):\n",
    "        return np.inf if self.y0 - self.y1 == 0 else -1 / derivative(self.y_coords, x)\n",
    "\n",
    "    def collides_with(self, ray_x, ray_y, ray_slope):\n",
    "        if ray_slope is np.inf:\n",
    "            if self.x0 <= ray_x <= self.x1:\n",
    "                return [(ray_x, self.y_coords(ray_x))]\n",
    "            return None\n",
    "\n",
    "        col_x = (ray_slope*ray_x - ray_y + self.offset) / (ray_slope - self.slope)\n",
    "\n",
    "        if self.x0 <= col_x <= self.x1:\n",
    "            return [(col_x, self.y_coords(col_x))]\n",
    "\n",
    "        return None"
   ]
  },
  {
   "cell_type": "code",
   "execution_count": 7,
   "metadata": {
    "pycharm": {
     "name": "#%%\n"
    }
   },
   "outputs": [],
   "source": [
    "class Ray:\n",
    "    def __init__(self, x0, y0, initial_slope=np.inf, initial_dir='R', color='red'):\n",
    "        self.x = x0\n",
    "        self.y = y0\n",
    "        self.slope = initial_slope\n",
    "        self.offset = self.y - self.slope * self.x\n",
    "        self.dir = initial_dir\n",
    "        self.collisions = 0\n",
    "        self.prev_dir = self.dir\n",
    "        self.reflection = False\n",
    "        self.reflection_origin = None\n",
    "        self.color = color\n",
    "\n",
    "        self.points = [(self.x, self.y)]\n",
    "\n",
    "    def get_collisions(self):\n",
    "        return self.collisions\n",
    "\n",
    "    def update(self, x, y, slope, dir, new_collision=True):\n",
    "        self.prev_dir = dir\n",
    "        self.points.append((x, y))\n",
    "        self.x = x\n",
    "        self.y = y\n",
    "        self.slope = slope\n",
    "        self.offset = self.y - self.slope * self.x\n",
    "        self.dir = dir\n",
    "\n",
    "        if new_collision:\n",
    "            self.collisions += 1"
   ]
  },
  {
   "cell_type": "code",
   "execution_count": 8,
   "metadata": {
    "pycharm": {
     "name": "#%%\n"
    }
   },
   "outputs": [],
   "source": [
    "def point_slope(x_point, y_point, y, slope):\n",
    "    return (slope * x_point + y - y_point) / slope"
   ]
  },
  {
   "cell_type": "code",
   "execution_count": 9,
   "metadata": {
    "pycharm": {
     "name": "#%%\n"
    }
   },
   "outputs": [],
   "source": [
    "def critical_angle(refr_idx_1, refr_idx_2):\n",
    "    return np.arcsin(refr_idx_2 / refr_idx_1)"
   ]
  },
  {
   "cell_type": "code",
   "execution_count": 10,
   "metadata": {
    "pycharm": {
     "name": "#%%\n"
    }
   },
   "outputs": [],
   "source": [
    "def snell_refraction(refr_idx_1, refr_idx_2, angle_1):\n",
    "    return math.asin(np.sin(angle_1) * refr_idx_1 / refr_idx_2)"
   ]
  },
  {
   "cell_type": "code",
   "execution_count": 11,
   "metadata": {
    "pycharm": {
     "name": "#%%\n"
    }
   },
   "outputs": [],
   "source": [
    "def trace_ray(ray: Ray, objects, refr_idx, end):\n",
    "    collisions = []\n",
    "\n",
    "    for obj in objects:\n",
    "        collisions = obj.collides_with(ray.x, ray.y, ray.slope)\n",
    "\n",
    "        if collisions is None:\n",
    "            continue\n",
    "\n",
    "        for collision in collisions:\n",
    "            if np.nan in collision:\n",
    "                continue\n",
    "\n",
    "            collision_x = collision[0]\n",
    "            collision_y = collision[1]\n",
    "\n",
    "            if ray.dir == 'R' and round(collision_y, 10) > round(ray.y, 10):\n",
    "                collisions.append((collision_x, collision_y, obj))\n",
    "            elif ray.dir == 'L' and round(collision_y, 10) < round(ray.y, 10):\n",
    "                collisions.append((collision_x, collision_y, obj))\n",
    "\n",
    "    if len(collisions) == 0:\n",
    "        if ray.dir == 'R':\n",
    "            ray.update(point_slope(ray.x, ray.y, end, ray.slope), end, ray.slope, 'R')\n",
    "        elif ray.dir == 'L':\n",
    "            ray.update(point_slope(ray.x, ray.y, -end, ray.slope), -end, ray.slope, 'L')\n",
    "        return ray\n",
    "\n",
    "    if ray.dir == 'R':\n",
    "        collisions.sort(key=lambda col: col[1])\n",
    "    else:\n",
    "        collisions.sort(key=lambda col: col[1], reverse=True)\n",
    "\n",
    "    norm_l_slope = collisions[0][2].normal_line_slope(collisions[0][0])\n",
    "\n",
    "    norm_l_angle = math.atan(norm_l_slope)\n",
    "    if norm_l_angle < 0:\n",
    "        norm_l_angle += math.pi\n",
    "\n",
    "    ray_angle = math.atan(ray.slope)\n",
    "    if ray_angle < 0:\n",
    "        ray_angle += math.pi\n",
    "\n",
    "    angle_1 = ray_angle - norm_l_angle\n",
    "\n",
    "    angle_2 = 0\n",
    "\n",
    "    reflection = False\n",
    "\n",
    "    if ray.collisions % 2 == 0:\n",
    "        if round(abs(angle_1), 5) >= round(critical_angle(1, refr_idx), 5):\n",
    "            if not ray.reflection:\n",
    "                ray.reflection = True\n",
    "                ray.reflection_origin = (collisions[0][0], collisions[0][1])\n",
    "            reflection = True\n",
    "            angle_2 = -angle_1\n",
    "        else:\n",
    "            ray.reflection = False\n",
    "            angle_2 = snell_refraction(1, refr_idx, angle_1)\n",
    "    if ray.collisions % 2 == 1:\n",
    "        if round(abs(angle_1), 5) >= round(critical_angle(refr_idx, 1), 5):\n",
    "            if not ray.reflection:\n",
    "                ray.reflection = True\n",
    "                ray.reflection_origin = (collisions[0][0], collisions[0][1])\n",
    "            reflection = True\n",
    "            angle_2 = -angle_1\n",
    "        else:\n",
    "            ray.reflection = False\n",
    "            angle_2 = snell_refraction(refr_idx, 1, angle_1)\n",
    "\n",
    "    if norm_l_angle >= 0:\n",
    "        ray_slope = math.tan(norm_l_angle + angle_2)\n",
    "    else:\n",
    "        ray_slope = math.tan(norm_l_angle - angle_2)\n",
    "\n",
    "    if reflection and (ray_slope < 0 or ray.prev_dir == 'L') and ray.reflection_origin[0] - collisions[0][2].x0 < 0:\n",
    "        ray.update(collisions[0][0], collisions[0][1], ray_slope, 'L', new_collision=not reflection)\n",
    "    elif reflection and (ray_slope > 0 or ray.prev_dir == 'L') and ray.reflection_origin[0] - collisions[0][2].x0 > 0:\n",
    "        ray.update(collisions[0][0], collisions[0][1], ray_slope, 'L', new_collision=not reflection)\n",
    "    else:\n",
    "        ray.update(collisions[0][0], collisions[0][1], ray_slope, ray.prev_dir, new_collision=not reflection)\n",
    "\n",
    "    return trace_ray(ray, objects, refr_idx, end)"
   ]
  },
  {
   "cell_type": "code",
   "execution_count": 19,
   "metadata": {
    "pycharm": {
     "name": "#%%\n"
    }
   },
   "outputs": [],
   "source": [
    "length = 5\n",
    "LPmm = 15 * 10**-1\n",
    "end_chord = 1 / LPmm\n",
    "h_to_l = 0.4\n",
    "h = h_to_l * end_chord\n",
    "w = 0.5\n",
    "\n",
    "r = (4 * h**2 + end_chord**2) / (8 * h)\n",
    "objects = []\n",
    "\n",
    "for i in np.arange(0, length * LPmm + 1, 1):\n",
    "    objects.append(Circle(-length/2 + i * end_chord, 0, r, end_chord))\n",
    "\n",
    "objects.append(Line(-length/2, length/2, -w - (r - h), -w - (r - h)))"
   ]
  },
  {
   "cell_type": "code",
   "execution_count": 20,
   "metadata": {
    "pycharm": {
     "name": "#%%\n"
    }
   },
   "outputs": [],
   "source": [
    "rays_x = np.arange(-2, 2, 0.1435)\n",
    "\n",
    "rays = [Ray(x, -10) for x in rays_x]"
   ]
  },
  {
   "cell_type": "code",
   "execution_count": 21,
   "outputs": [],
   "source": [
    "rays = [rays[4]]"
   ],
   "metadata": {
    "collapsed": false,
    "pycharm": {
     "name": "#%%\n"
    }
   }
  },
  {
   "cell_type": "code",
   "execution_count": 22,
   "metadata": {
    "pycharm": {
     "name": "#%%\n"
    }
   },
   "outputs": [
    {
     "name": "stdout",
     "output_type": "stream",
     "text": [
      "ray 0\n",
      "-inf\n",
      "-inf\n"
     ]
    },
    {
     "name": "stderr",
     "output_type": "stream",
     "text": [
      "/tmp/ipykernel_65727/1387633921.py:38: RuntimeWarning: invalid value encountered in double_scalars\n",
      "  d = -np.abs(((-ray_offset / ray_slope) * ray_offset) / np.sqrt((-ray_offset / ray_slope)**2 + ray_offset**2))\n"
     ]
    },
    {
     "ename": "KeyboardInterrupt",
     "evalue": "",
     "output_type": "error",
     "traceback": [
      "\u001B[0;31m---------------------------------------------------------------------------\u001B[0m",
      "\u001B[0;31mKeyboardInterrupt\u001B[0m                         Traceback (most recent call last)",
      "Input \u001B[0;32mIn [22]\u001B[0m, in \u001B[0;36m<cell line: 1>\u001B[0;34m()\u001B[0m\n\u001B[1;32m      1\u001B[0m \u001B[38;5;28;01mfor\u001B[39;00m i, ray \u001B[38;5;129;01min\u001B[39;00m \u001B[38;5;28menumerate\u001B[39m(rays):\n\u001B[1;32m      2\u001B[0m     \u001B[38;5;28mprint\u001B[39m(\u001B[38;5;124m'\u001B[39m\u001B[38;5;124mray\u001B[39m\u001B[38;5;124m'\u001B[39m, i)\n\u001B[0;32m----> 3\u001B[0m     ray \u001B[38;5;241m=\u001B[39m \u001B[43mtrace_ray\u001B[49m\u001B[43m(\u001B[49m\u001B[43mray\u001B[49m\u001B[43m,\u001B[49m\u001B[43m \u001B[49m\u001B[43mobjects\u001B[49m\u001B[43m,\u001B[49m\u001B[43m \u001B[49m\u001B[38;5;241;43m1.489\u001B[39;49m\u001B[43m,\u001B[49m\u001B[43m \u001B[49m\u001B[38;5;241;43m20\u001B[39;49m\u001B[43m)\u001B[49m\n\u001B[1;32m      4\u001B[0m     \u001B[38;5;28mprint\u001B[39m(\u001B[38;5;124m'\u001B[39m\u001B[38;5;124mdone\u001B[39m\u001B[38;5;124m'\u001B[39m)\n",
      "Input \u001B[0;32mIn [11]\u001B[0m, in \u001B[0;36mtrace_ray\u001B[0;34m(ray, objects, refr_idx, end)\u001B[0m\n\u001B[1;32m     14\u001B[0m collision_x \u001B[38;5;241m=\u001B[39m collision[\u001B[38;5;241m0\u001B[39m]\n\u001B[1;32m     15\u001B[0m collision_y \u001B[38;5;241m=\u001B[39m collision[\u001B[38;5;241m1\u001B[39m]\n\u001B[0;32m---> 17\u001B[0m \u001B[38;5;28;01mif\u001B[39;00m ray\u001B[38;5;241m.\u001B[39mdir \u001B[38;5;241m==\u001B[39m \u001B[38;5;124m'\u001B[39m\u001B[38;5;124mR\u001B[39m\u001B[38;5;124m'\u001B[39m \u001B[38;5;129;01mand\u001B[39;00m \u001B[38;5;28;43mround\u001B[39;49m\u001B[43m(\u001B[49m\u001B[43mcollision_y\u001B[49m\u001B[43m,\u001B[49m\u001B[43m \u001B[49m\u001B[38;5;241;43m10\u001B[39;49m\u001B[43m)\u001B[49m \u001B[38;5;241m>\u001B[39m \u001B[38;5;28mround\u001B[39m(ray\u001B[38;5;241m.\u001B[39my, \u001B[38;5;241m10\u001B[39m):\n\u001B[1;32m     18\u001B[0m     collisions\u001B[38;5;241m.\u001B[39mappend((collision_x, collision_y, obj))\n\u001B[1;32m     19\u001B[0m \u001B[38;5;28;01melif\u001B[39;00m ray\u001B[38;5;241m.\u001B[39mdir \u001B[38;5;241m==\u001B[39m \u001B[38;5;124m'\u001B[39m\u001B[38;5;124mL\u001B[39m\u001B[38;5;124m'\u001B[39m \u001B[38;5;129;01mand\u001B[39;00m \u001B[38;5;28mround\u001B[39m(collision_y, \u001B[38;5;241m10\u001B[39m) \u001B[38;5;241m<\u001B[39m \u001B[38;5;28mround\u001B[39m(ray\u001B[38;5;241m.\u001B[39my, \u001B[38;5;241m10\u001B[39m):\n",
      "\u001B[0;31mKeyboardInterrupt\u001B[0m: "
     ]
    }
   ],
   "source": [
    "for i, ray in enumerate(rays):\n",
    "    print('ray', i)\n",
    "    ray = trace_ray(ray, objects, 1.489, 20)\n",
    "    print('done')"
   ]
  },
  {
   "cell_type": "code",
   "execution_count": 17,
   "outputs": [
    {
     "data": {
      "text/plain": "[(-1.4260000000000002, -10)]"
     },
     "execution_count": 17,
     "metadata": {},
     "output_type": "execute_result"
    }
   ],
   "source": [
    "rays[0].points"
   ],
   "metadata": {
    "collapsed": false,
    "pycharm": {
     "name": "#%%\n"
    }
   }
  },
  {
   "cell_type": "code",
   "execution_count": 75,
   "outputs": [
    {
     "data": {
      "text/plain": "(126.95337737146716, 20)"
     },
     "execution_count": 75,
     "metadata": {},
     "output_type": "execute_result"
    }
   ],
   "source": [
    "rays[0].points.pop()"
   ],
   "metadata": {
    "collapsed": false,
    "pycharm": {
     "name": "#%%\n"
    }
   }
  },
  {
   "cell_type": "code",
   "execution_count": 76,
   "outputs": [],
   "source": [
    "rays[0].x = rays[0].points[-1][0]\n",
    "rays[0].y = rays[0].points[-1][1]"
   ],
   "metadata": {
    "collapsed": false,
    "pycharm": {
     "name": "#%%\n"
    }
   }
  },
  {
   "cell_type": "code",
   "execution_count": 77,
   "outputs": [
    {
     "data": {
      "text/plain": "[(-1.4260000000000002, -10),\n (-1.4260000000000002, -0.575),\n (-1.4260000000000002, 0.22244624818893505)]"
     },
     "execution_count": 77,
     "metadata": {},
     "output_type": "execute_result"
    }
   ],
   "source": [
    "rays[0].points"
   ],
   "metadata": {
    "collapsed": false,
    "pycharm": {
     "name": "#%%\n"
    }
   }
  },
  {
   "cell_type": "code",
   "execution_count": 61,
   "outputs": [
    {
     "data": {
      "text/plain": "0.3416666666666667"
     },
     "execution_count": 61,
     "metadata": {},
     "output_type": "execute_result"
    }
   ],
   "source": [
    "objects[2].r"
   ],
   "metadata": {
    "collapsed": false,
    "pycharm": {
     "name": "#%%\n"
    }
   }
  },
  {
   "cell_type": "code",
   "execution_count": 60,
   "outputs": [
    {
     "name": "stdout",
     "output_type": "stream",
     "text": [
      "0.2623979837764631\n"
     ]
    },
    {
     "data": {
      "text/plain": "[0.18035989458377483, -0.2593333333333334]"
     },
     "execution_count": 60,
     "metadata": {},
     "output_type": "execute_result"
    }
   ],
   "source": [
    "objects[2].collides_with(rays[0].x, rays[0].y, rays[0].slope)"
   ],
   "metadata": {
    "collapsed": false,
    "pycharm": {
     "name": "#%%\n"
    }
   }
  },
  {
   "cell_type": "code",
   "execution_count": null,
   "outputs": [],
   "source": [
    "with open('sheet_3.pickle', 'wb') as ray_file:\n",
    "    pickle.dump(rays, ray_file)"
   ],
   "metadata": {
    "collapsed": false,
    "pycharm": {
     "name": "#%%\n"
    }
   }
  },
  {
   "cell_type": "code",
   "execution_count": 74,
   "metadata": {
    "pycharm": {
     "name": "#%%\n"
    }
   },
   "outputs": [
    {
     "data": {
      "text/plain": "<Figure size 720x720 with 1 Axes>",
      "image/png": "[encoded data removed]"
     },
     "metadata": {
      "needs_background": "light"
     },
     "output_type": "display_data"
    }
   ],
   "source": [
    "fig, ax = plt.subplots()\n",
    "\n",
    "x_vals = np.arange(-length/2 - end_chord/2, length/2 + end_chord/2, 0.01)\n",
    "y_coords = []\n",
    "\n",
    "obj_idx = 0\n",
    "\n",
    "for x in x_vals:\n",
    "    try:\n",
    "        y_coords.append(objects[obj_idx].y_coords(x))\n",
    "    except ValueError:\n",
    "        obj_idx += 1\n",
    "        y_coords.append(objects[obj_idx].y_coords(x))\n",
    "\n",
    "ax.plot(x_vals, y_coords, color='lightblue')\n",
    "ax.plot(x_vals, objects[-1].y_coords(x_vals), color='lightblue')\n",
    "\n",
    "for i, ray in enumerate(rays):\n",
    "    ray_points = np.array(ray.points).swapaxes(0, 1)\n",
    "    if i == 4:\n",
    "        ax.plot(ray_points[0], ray_points[1], color='green')\n",
    "    else:\n",
    "        ax.plot(ray_points[0], ray_points[1], color='red')\n",
    "\n",
    "plt.ylim(-6, 20)\n",
    "plt.xlim(-10, 10)\n",
    "plt.xlabel('mm')\n",
    "plt.ylabel('mm')\n",
    "ax.set_aspect(1)\n",
    "ax.set_title('Sheet 3')\n",
    "fig.set_size_inches(10, 10)\n",
    "plt.show()"
   ]
  },
  {
   "cell_type": "code",
   "execution_count": 22,
   "metadata": {
    "pycharm": {
     "name": "#%%\n"
    }
   },
   "outputs": [],
   "source": [
    "angles = []\n",
    "\n",
    "for ray in rays:\n",
    "    if ray.dir == 'L':\n",
    "        continue\n",
    "\n",
    "    angle = math.atan(ray.slope)\n",
    "\n",
    "    angles.append(math.pi/2 - angle if angle > 0 else 3/2*math.pi - (math.pi - angle))\n",
    "\n",
    "angles = np.array(angles)"
   ]
  },
  {
   "cell_type": "code",
   "execution_count": 23,
   "metadata": {
    "pycharm": {
     "name": "#%%\n"
    }
   },
   "outputs": [
    {
     "data": {
      "text/plain": "177.19315199618168"
     },
     "execution_count": 23,
     "metadata": {},
     "output_type": "execute_result"
    }
   ],
   "source": [
    "np.max(angles) * 2 * 180 / math.pi"
   ]
  },
  {
   "cell_type": "code",
   "execution_count": 30,
   "metadata": {
    "pycharm": {
     "name": "#%%\n"
    }
   },
   "outputs": [
    {
     "data": {
      "text/plain": [
       "array([0.05, 0.15, 0.25, 0.35, 0.45])"
      ]
     },
     "execution_count": 30,
     "metadata": {},
     "output_type": "execute_result"
    }
   ],
   "source": [
    "h_ls"
   ]
  },
  {
   "cell_type": "code",
   "execution_count": 20,
   "metadata": {
    "pycharm": {
     "name": "#%%\n"
    }
   },
   "outputs": [
    {
     "name": "stdout",
     "output_type": "stream",
     "text": [
      "Lens: h_r 0.1\n",
      "ray 0\n"
     ]
    },
    {
     "name": "stderr",
     "output_type": "stream",
     "text": [
      "/tmp/ipykernel_372244/448008599.py:2: RuntimeWarning: invalid value encountered in arcsin\n",
      "  return np.arcsin(refr_idx_2 / refr_idx_1)\n",
      "/tmp/ipykernel_372244/3978191106.py:15: RuntimeWarning: divide by zero encountered in double_scalars\n",
      "  return -1 / derivative(self.y_coords, x)\n"
     ]
    },
    {
     "name": "stdout",
     "output_type": "stream",
     "text": [
      "done\n",
      "ray 1\n"
     ]
    },
    {
     "ename": "KeyboardInterrupt",
     "evalue": "",
     "output_type": "error",
     "traceback": [
      "\u001B[0;31m---------------------------------------------------------------------------\u001B[0m",
      "\u001B[0;31mKeyboardInterrupt\u001B[0m                         Traceback (most recent call last)",
      "Input \u001B[0;32mIn [20]\u001B[0m, in \u001B[0;36m<cell line: 5>\u001B[0;34m()\u001B[0m\n\u001B[1;32m     26\u001B[0m \u001B[38;5;28mprint\u001B[39m(\u001B[38;5;124m'\u001B[39m\u001B[38;5;124mray\u001B[39m\u001B[38;5;124m'\u001B[39m, i)\n\u001B[1;32m     27\u001B[0m \u001B[38;5;28;01mtry\u001B[39;00m:\n\u001B[0;32m---> 28\u001B[0m     ray \u001B[38;5;241m=\u001B[39m \u001B[43mtrace_ray\u001B[49m\u001B[43m(\u001B[49m\u001B[43mray\u001B[49m\u001B[43m,\u001B[49m\u001B[43m \u001B[49m\u001B[43mobjects\u001B[49m\u001B[43m,\u001B[49m\u001B[43m \u001B[49m\u001B[38;5;241;43m1.489\u001B[39;49m\u001B[43m,\u001B[49m\u001B[43m \u001B[49m\u001B[38;5;241;43m20\u001B[39;49m\u001B[43m)\u001B[49m\n\u001B[1;32m     29\u001B[0m \u001B[38;5;28;01mexcept\u001B[39;00m \u001B[38;5;167;01mValueError\u001B[39;00m:\n\u001B[1;32m     30\u001B[0m     \u001B[38;5;28;01mcontinue\u001B[39;00m\n",
      "Input \u001B[0;32mIn [12]\u001B[0m, in \u001B[0;36mtrace_ray\u001B[0;34m(ray, objects, refr_idx, end)\u001B[0m\n\u001B[1;32m      2\u001B[0m collisions \u001B[38;5;241m=\u001B[39m []\n\u001B[1;32m      4\u001B[0m \u001B[38;5;28;01mfor\u001B[39;00m obj \u001B[38;5;129;01min\u001B[39;00m objects:\n\u001B[0;32m----> 5\u001B[0m     collisions_x \u001B[38;5;241m=\u001B[39m \u001B[43mobj\u001B[49m\u001B[38;5;241;43m.\u001B[39;49m\u001B[43mcollides_with\u001B[49m\u001B[43m(\u001B[49m\u001B[43mray\u001B[49m\u001B[38;5;241;43m.\u001B[39;49m\u001B[43mx\u001B[49m\u001B[43m,\u001B[49m\u001B[43m \u001B[49m\u001B[43mray\u001B[49m\u001B[38;5;241;43m.\u001B[39;49m\u001B[43my\u001B[49m\u001B[43m,\u001B[49m\u001B[43m \u001B[49m\u001B[43mray\u001B[49m\u001B[38;5;241;43m.\u001B[39;49m\u001B[43mslope\u001B[49m\u001B[43m)\u001B[49m\n\u001B[1;32m      7\u001B[0m     \u001B[38;5;28;01mif\u001B[39;00m collisions_x \u001B[38;5;129;01mis\u001B[39;00m \u001B[38;5;28;01mNone\u001B[39;00m:\n\u001B[1;32m      8\u001B[0m         \u001B[38;5;28;01mcontinue\u001B[39;00m\n",
      "Input \u001B[0;32mIn [6]\u001B[0m, in \u001B[0;36mCircle.collides_with\u001B[0;34m(self, ray_x, ray_y, ray_slope)\u001B[0m\n\u001B[1;32m     23\u001B[0m x \u001B[38;5;241m=\u001B[39m sympy\u001B[38;5;241m.\u001B[39msymbols(\u001B[38;5;124m'\u001B[39m\u001B[38;5;124mx\u001B[39m\u001B[38;5;124m'\u001B[39m)\n\u001B[1;32m     25\u001B[0m eq \u001B[38;5;241m=\u001B[39m (ray_slope \u001B[38;5;241m*\u001B[39m (x \u001B[38;5;241m-\u001B[39m ray_x) \u001B[38;5;241m+\u001B[39m ray_y) \u001B[38;5;241m-\u001B[39m (sympy\u001B[38;5;241m.\u001B[39msqrt(\u001B[38;5;28mself\u001B[39m\u001B[38;5;241m.\u001B[39mr\u001B[38;5;241m*\u001B[39m\u001B[38;5;241m*\u001B[39m\u001B[38;5;241m2\u001B[39m \u001B[38;5;241m-\u001B[39m x\u001B[38;5;241m*\u001B[39m\u001B[38;5;241m*\u001B[39m\u001B[38;5;241m2\u001B[39m) \u001B[38;5;241m+\u001B[39m \u001B[38;5;28mself\u001B[39m\u001B[38;5;241m.\u001B[39my0)\n\u001B[0;32m---> 26\u001B[0m solutions \u001B[38;5;241m=\u001B[39m \u001B[43msympy\u001B[49m\u001B[38;5;241;43m.\u001B[39;49m\u001B[43msolve\u001B[49m\u001B[43m(\u001B[49m\u001B[43meq\u001B[49m\u001B[43m)\u001B[49m\n\u001B[1;32m     28\u001B[0m \u001B[38;5;28;01mif\u001B[39;00m \u001B[38;5;28mlen\u001B[39m(solutions) \u001B[38;5;241m>\u001B[39m \u001B[38;5;241m0\u001B[39m:\n\u001B[1;32m     29\u001B[0m     solutions_f \u001B[38;5;241m=\u001B[39m []\n",
      "File \u001B[0;32m~/Documents/IYPT2022/17-invisibility/venv/lib/python3.10/site-packages/sympy/solvers/solvers.py:1106\u001B[0m, in \u001B[0;36msolve\u001B[0;34m(f, *symbols, **flags)\u001B[0m\n\u001B[1;32m   1102\u001B[0m \u001B[38;5;66;03m#\u001B[39;00m\n\u001B[1;32m   1103\u001B[0m \u001B[38;5;66;03m# try to get a solution\u001B[39;00m\n\u001B[1;32m   1104\u001B[0m \u001B[38;5;66;03m###########################################################################\u001B[39;00m\n\u001B[1;32m   1105\u001B[0m \u001B[38;5;28;01mif\u001B[39;00m bare_f:\n\u001B[0;32m-> 1106\u001B[0m     solution \u001B[38;5;241m=\u001B[39m \u001B[43m_solve\u001B[49m\u001B[43m(\u001B[49m\u001B[43mf\u001B[49m\u001B[43m[\u001B[49m\u001B[38;5;241;43m0\u001B[39;49m\u001B[43m]\u001B[49m\u001B[43m,\u001B[49m\u001B[43m \u001B[49m\u001B[38;5;241;43m*\u001B[39;49m\u001B[43msymbols\u001B[49m\u001B[43m,\u001B[49m\u001B[43m \u001B[49m\u001B[38;5;241;43m*\u001B[39;49m\u001B[38;5;241;43m*\u001B[39;49m\u001B[43mflags\u001B[49m\u001B[43m)\u001B[49m\n\u001B[1;32m   1107\u001B[0m \u001B[38;5;28;01melse\u001B[39;00m:\n\u001B[1;32m   1108\u001B[0m     solution \u001B[38;5;241m=\u001B[39m _solve_system(f, symbols, \u001B[38;5;241m*\u001B[39m\u001B[38;5;241m*\u001B[39mflags)\n",
      "File \u001B[0;32m~/Documents/IYPT2022/17-invisibility/venv/lib/python3.10/site-packages/sympy/solvers/solvers.py:1449\u001B[0m, in \u001B[0;36m_solve\u001B[0;34m(f, *symbols, **flags)\u001B[0m\n\u001B[1;32m   1445\u001B[0m     flags[\u001B[38;5;124m'\u001B[39m\u001B[38;5;124msimplify\u001B[39m\u001B[38;5;124m'\u001B[39m] \u001B[38;5;241m=\u001B[39m \u001B[38;5;28;01mFalse\u001B[39;00m\n\u001B[1;32m   1446\u001B[0m \u001B[38;5;28;01melse\u001B[39;00m:\n\u001B[1;32m   1447\u001B[0m     \u001B[38;5;66;03m# first see if it really depends on symbol and whether there\u001B[39;00m\n\u001B[1;32m   1448\u001B[0m     \u001B[38;5;66;03m# is only a linear solution\u001B[39;00m\n\u001B[0;32m-> 1449\u001B[0m     f_num, sol \u001B[38;5;241m=\u001B[39m \u001B[43msolve_linear\u001B[49m\u001B[43m(\u001B[49m\u001B[43mf\u001B[49m\u001B[43m,\u001B[49m\u001B[43m \u001B[49m\u001B[43msymbols\u001B[49m\u001B[38;5;241;43m=\u001B[39;49m\u001B[43msymbols\u001B[49m\u001B[43m)\u001B[49m\n\u001B[1;32m   1450\u001B[0m     \u001B[38;5;28;01mif\u001B[39;00m f_num\u001B[38;5;241m.\u001B[39mis_zero \u001B[38;5;129;01mor\u001B[39;00m sol \u001B[38;5;129;01mis\u001B[39;00m S\u001B[38;5;241m.\u001B[39mNaN:\n\u001B[1;32m   1451\u001B[0m         \u001B[38;5;28;01mreturn\u001B[39;00m []\n",
      "File \u001B[0;32m~/Documents/IYPT2022/17-invisibility/venv/lib/python3.10/site-packages/sympy/solvers/solvers.py:2152\u001B[0m, in \u001B[0;36msolve_linear\u001B[0;34m(lhs, rhs, symbols, exclude)\u001B[0m\n\u001B[1;32m   2149\u001B[0m         derivs[c]\u001B[38;5;241m.\u001B[39mappend(der)\n\u001B[1;32m   2151\u001B[0m all_zero \u001B[38;5;241m=\u001B[39m \u001B[38;5;28;01mTrue\u001B[39;00m\n\u001B[0;32m-> 2152\u001B[0m \u001B[38;5;28;01mfor\u001B[39;00m xi \u001B[38;5;129;01min\u001B[39;00m \u001B[38;5;28;43msorted\u001B[39;49m\u001B[43m(\u001B[49m\u001B[43msymbols\u001B[49m\u001B[43m,\u001B[49m\u001B[43m \u001B[49m\u001B[43mkey\u001B[49m\u001B[38;5;241;43m=\u001B[39;49m\u001B[43mdefault_sort_key\u001B[49m\u001B[43m)\u001B[49m:  \u001B[38;5;66;03m# canonical order\u001B[39;00m\n\u001B[1;32m   2153\u001B[0m     \u001B[38;5;66;03m# if there are derivatives in this var, calculate them now\u001B[39;00m\n\u001B[1;32m   2154\u001B[0m     \u001B[38;5;28;01mif\u001B[39;00m \u001B[38;5;28misinstance\u001B[39m(derivs[xi], \u001B[38;5;28mlist\u001B[39m):\n\u001B[1;32m   2155\u001B[0m         derivs[xi] \u001B[38;5;241m=\u001B[39m {der: der\u001B[38;5;241m.\u001B[39mdoit() \u001B[38;5;28;01mfor\u001B[39;00m der \u001B[38;5;129;01min\u001B[39;00m derivs[xi]}\n",
      "File \u001B[0;32m~/Documents/IYPT2022/17-invisibility/venv/lib/python3.10/site-packages/sympy/core/sorting.py:10\u001B[0m, in \u001B[0;36mdefault_sort_key\u001B[0;34m(item, order)\u001B[0m\n\u001B[1;32m      4\u001B[0m \u001B[38;5;28;01mfrom\u001B[39;00m \u001B[38;5;21;01msympy\u001B[39;00m\u001B[38;5;21;01m.\u001B[39;00m\u001B[38;5;21;01mutilities\u001B[39;00m\u001B[38;5;21;01m.\u001B[39;00m\u001B[38;5;21;01miterables\u001B[39;00m \u001B[38;5;28;01mimport\u001B[39;00m iterable, uniq\n\u001B[1;32m      7\u001B[0m __all__ \u001B[38;5;241m=\u001B[39m [\u001B[38;5;124m'\u001B[39m\u001B[38;5;124mdefault_sort_key\u001B[39m\u001B[38;5;124m'\u001B[39m, \u001B[38;5;124m'\u001B[39m\u001B[38;5;124mordered\u001B[39m\u001B[38;5;124m'\u001B[39m]\n\u001B[0;32m---> 10\u001B[0m \u001B[38;5;28;01mdef\u001B[39;00m \u001B[38;5;21mdefault_sort_key\u001B[39m(item, order\u001B[38;5;241m=\u001B[39m\u001B[38;5;28;01mNone\u001B[39;00m):\n\u001B[1;32m     11\u001B[0m     \u001B[38;5;124;03m\"\"\"Return a key that can be used for sorting.\u001B[39;00m\n\u001B[1;32m     12\u001B[0m \n\u001B[1;32m     13\u001B[0m \u001B[38;5;124;03m    The key has the structure:\u001B[39;00m\n\u001B[0;32m   (...)\u001B[0m\n\u001B[1;32m    122\u001B[0m \n\u001B[1;32m    123\u001B[0m \u001B[38;5;124;03m    \"\"\"\u001B[39;00m\n\u001B[1;32m    124\u001B[0m     \u001B[38;5;28;01mfrom\u001B[39;00m \u001B[38;5;21;01m.\u001B[39;00m\u001B[38;5;21;01mbasic\u001B[39;00m \u001B[38;5;28;01mimport\u001B[39;00m Basic\n",
      "\u001B[0;31mKeyboardInterrupt\u001B[0m: "
     ]
    }
   ],
   "source": [
    "h_ls = np.arange(0.1, 0.6, 0.1)\n",
    "\n",
    "beam_angles = []\n",
    "\n",
    "for h_r in h_ls:\n",
    "    print('Lens: h_r {}'.format(h_r))\n",
    "    length = 10\n",
    "    LPmm = 10 * 10**-1\n",
    "    end_chord = 1 / LPmm\n",
    "    r = 0.5\n",
    "    h = h_r * r\n",
    "    w = 0.5\n",
    "\n",
    "    objects = []\n",
    "\n",
    "    for i in np.arange(0, length * LPmm + 1, 1):\n",
    "        objects.append(Circle(-length/2 + i * end_chord, 0, r, end_chord))\n",
    "\n",
    "    objects.append(Line(-length/2, length/2, -w - (r - h), -w - (r - h)))\n",
    "\n",
    "    rays_x = np.arange(-2, 2, 0.2)\n",
    "\n",
    "    rays = [Ray(x, -10) for x in rays_x]\n",
    "\n",
    "    for i, ray in enumerate(rays):\n",
    "        print('ray', i)\n",
    "        try:\n",
    "            ray = trace_ray(ray, objects, 1.489, 20)\n",
    "        except ValueError:\n",
    "            continue\n",
    "        print('done')\n",
    "\n",
    "    angles = []\n",
    "\n",
    "    for ray in rays:\n",
    "        if ray.dir == 'L':\n",
    "            continue\n",
    "\n",
    "        angle = math.atan(ray.slope)\n",
    "\n",
    "        angles.append(math.pi/2 - angle if angle > 0 else 3/2*math.pi - (math.pi - angle))\n",
    "\n",
    "    angles = np.array(angles)\n",
    "    beam_angles.append(np.max(angles) * 2 * 180 / math.pi)\n",
    "    print('angle: {}'.format(beam_angles[-1]))"
   ]
  }
 ],
 "metadata": {
  "kernelspec": {
   "display_name": "Python 3 (ipykernel)",
   "language": "python",
   "name": "python3"
  },
  "language_info": {
   "codemirror_mode": {
    "name": "ipython",
    "version": 3
   },
   "file_extension": ".py",
   "mimetype": "text/x-python",
   "name": "python",
   "nbconvert_exporter": "python",
   "pygments_lexer": "ipython3",
   "version": "3.10.4"
  }
 },
 "nbformat": 4,
 "nbformat_minor": 1
}